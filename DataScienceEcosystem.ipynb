{
 "cells": [
  {
   "cell_type": "markdown",
   "id": "4b8bf1d2-dac9-403a-9565-3d7668adedf1",
   "metadata": {},
   "source": [
    "# Data Science Tools and Ecosystem"
   ]
  },
  {
   "cell_type": "markdown",
   "id": "729a7f41-05c2-44cf-97d1-a6c5b03e4c97",
   "metadata": {},
   "source": [
    "In this notebook, Data Science Tools and Ecosystem are summarized."
   ]
  },
  {
   "cell_type": "markdown",
   "id": "c3a151d9-6114-4c72-a22a-249079f5e83e",
   "metadata": {
    "tags": []
   },
   "source": [
    "Some of the popular languages that Data Scientists use are:\n",
    "    1. Python\n",
    "    2. R\n",
    "    3. SQL\n",
    "    "
   ]
  },
  {
   "cell_type": "markdown",
   "id": "8fe44745-b6fc-4f24-a59c-c6daf3b3e877",
   "metadata": {},
   "source": [
    "Some of the commonly used libraries used by Data Scientists include:\n",
    "    1. NumPy\n",
    "    2. Pandas\n",
    "    3. Matplotlib"
   ]
  },
  {
   "cell_type": "markdown",
   "id": "cb1c05ea-9eaa-431e-8f04-03131d4bdbc3",
   "metadata": {},
   "source": [
    "|Data Science Tools|\n",
    "|---|\n",
    "|Apache Hadoop|\n",
    "|SAS|\n",
    "|TensorFlow|"
   ]
  },
  {
   "cell_type": "markdown",
   "id": "0b88f302-7db0-49d6-8575-47f01775a41c",
   "metadata": {},
   "source": [
    "### Below are a few examples of evaluating arithmetic expressions in Python."
   ]
  },
  {
   "cell_type": "code",
   "execution_count": 2,
   "id": "7f2b23ab-bdd5-47e8-8e18-6f8d63dd037d",
   "metadata": {
    "tags": []
   },
   "outputs": [
    {
     "data": {
      "text/plain": [
       "17"
      ]
     },
     "execution_count": 2,
     "metadata": {},
     "output_type": "execute_result"
    }
   ],
   "source": [
    "#This a simple arithmetic expression to mutiply then add integers\n",
    "(3*4)+5"
   ]
  },
  {
   "cell_type": "code",
   "execution_count": 3,
   "id": "19fdd751-16b9-480a-a471-72f05a485ada",
   "metadata": {
    "tags": []
   },
   "outputs": [
    {
     "data": {
      "text/plain": [
       "3.3333333333333335"
      ]
     },
     "execution_count": 3,
     "metadata": {},
     "output_type": "execute_result"
    }
   ],
   "source": [
    "#This will convert 200 minutes to hours by diving by 60\n",
    "200/60"
   ]
  },
  {
   "cell_type": "markdown",
   "id": "517f66b4-9f3f-4650-a4b7-55db0457fe38",
   "metadata": {
    "tags": []
   },
   "source": [
    "__Objective__\n",
    "* List popular languages for Data Science\n",
    "* List of Well known Data Science Tools\n",
    "* List popular libraries for Data Science "
   ]
  },
  {
   "cell_type": "markdown",
   "id": "f980aa1b-985f-4f7b-9c9e-d7fa9f6e179b",
   "metadata": {},
   "source": [
    "## Author\n",
    "Burak Turan"
   ]
  },
  {
   "cell_type": "code",
   "execution_count": null,
   "id": "22f2be4a-db25-486a-9850-7a75be5df308",
   "metadata": {},
   "outputs": [],
   "source": []
  },
  {
   "cell_type": "code",
   "execution_count": null,
   "id": "a2389ec4-0f28-4191-bcf8-5df03f5995ba",
   "metadata": {},
   "outputs": [],
   "source": []
  },
  {
   "cell_type": "code",
   "execution_count": null,
   "id": "c1e066a8-a804-4e66-b129-512dc8868719",
   "metadata": {},
   "outputs": [],
   "source": []
  },
  {
   "cell_type": "code",
   "execution_count": null,
   "id": "fffe84ff-0c38-40cd-a427-291780dfec0b",
   "metadata": {},
   "outputs": [],
   "source": []
  },
  {
   "cell_type": "code",
   "execution_count": null,
   "id": "b697869a-84cc-491b-bd75-98a47b11f2ca",
   "metadata": {},
   "outputs": [],
   "source": []
  },
  {
   "cell_type": "code",
   "execution_count": null,
   "id": "450a6de2-680e-4556-9405-dfccd2a806da",
   "metadata": {},
   "outputs": [],
   "source": []
  },
  {
   "cell_type": "code",
   "execution_count": null,
   "id": "465c1d01-df89-4ef8-94bf-562c571b0cd0",
   "metadata": {},
   "outputs": [],
   "source": []
  },
  {
   "cell_type": "code",
   "execution_count": null,
   "id": "e0a769b4-7dcb-47cf-89c3-60e59fcf65e6",
   "metadata": {},
   "outputs": [],
   "source": []
  },
  {
   "cell_type": "code",
   "execution_count": null,
   "id": "78c6d158-6f1f-4ca9-aa29-9cd8466cd014",
   "metadata": {},
   "outputs": [],
   "source": []
  }
 ],
 "metadata": {
  "kernelspec": {
   "display_name": "Python",
   "language": "python",
   "name": "conda-env-python-py"
  },
  "language_info": {
   "codemirror_mode": {
    "name": "ipython",
    "version": 3
   },
   "file_extension": ".py",
   "mimetype": "text/x-python",
   "name": "python",
   "nbconvert_exporter": "python",
   "pygments_lexer": "ipython3",
   "version": "3.7.12"
  }
 },
 "nbformat": 4,
 "nbformat_minor": 5
}
